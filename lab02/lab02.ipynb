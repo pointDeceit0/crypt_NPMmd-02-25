{
 "cells": [
  {
   "cell_type": "markdown",
   "id": "e523bb85",
   "metadata": {},
   "source": [
    "# Задание 1. Маршрутное шифрование"
   ]
  },
  {
   "cell_type": "code",
   "execution_count": null,
   "id": "192dabc4",
   "metadata": {},
   "outputs": [],
   "source": [
    "import numpy as np\n",
    "\n",
    "ALPHABET = 'абвгдеёжзийклмнопрстуфхцчшщъыьэюя'"
   ]
  },
  {
   "cell_type": "code",
   "execution_count": 57,
   "id": "57b5e911",
   "metadata": {},
   "outputs": [
    {
     "data": {
      "text/plain": [
       "'шопокяхороутраэушалс'"
      ]
     },
     "execution_count": 57,
     "metadata": {},
     "output_type": "execute_result"
    }
   ],
   "source": [
    "m, n = int(input()), int(input())  # вводим числа\n",
    "# m, n = 4, 5\n",
    "if m < 1 or n < 1:  # проверка на подходящее число\n",
    "    raise(ValueError('m and n must be more then 1!'))\n",
    "\n",
    "# ввод сообщения\n",
    "text = input().replace(' ', '').lower().replace('ё', 'е')\n",
    "# text = 'я хорошо покушал с утра'.lower().replace(' ', '').replace('ё', 'е')\n",
    "\n",
    "if all(map(lambda x: x not in ALPHABET + ' ', text)):  # проверка на подходящий текст\n",
    "    raise(ValueError('Text has not acceptable symbols!'))\n",
    "\n",
    "# дополнение текста случайными буквами, если не хватает символов до полной таблицы\n",
    "if m * n != len(text):\n",
    "    text += ''.join([np.random.choice(list(ALPHABET)) for _ in range(m * n - len(text))])\n",
    "\n",
    "# введение пароля\n",
    "password = input().replace(' ', '').lower().replace('ё', 'е')\n",
    "# password = 'карл'.lower().replace(' ', '').replace('ё', 'е')\n",
    "\n",
    "if all(map(lambda x: x not in ALPHABET + ' ', password)):  # проверка пароля на допустимые символы\n",
    "    raise(ValueError('Password has not acceptable symbols!'))\n",
    "if len(password) != m:  # проверка длинны пароля\n",
    "    raise(ValueError('Password len must be equall to matrix size!'))\n",
    "\n",
    "# шифрование\n",
    "''.join(\n",
    "    np.array(list(text)).reshape((m, n))[\n",
    "\t\t[password.index(s) for s in sorted(password)]  # определения порядка следования столбцов символов\n",
    "\t].reshape((n * m))\n",
    ")"
   ]
  },
  {
   "cell_type": "markdown",
   "id": "d23e4630",
   "metadata": {},
   "source": [
    "___\n",
    "# Задание 2. Шифрование с помощью решеток"
   ]
  },
  {
   "cell_type": "code",
   "execution_count": null,
   "id": "4d863d71",
   "metadata": {},
   "outputs": [
    {
     "name": "stdout",
     "output_type": "stream",
     "text": [
      "Размер решетки:\t3\n",
      "Сообщение для шифрования:\tсегодняхорошокушалсутраивобедщецйкат\n",
      "Пароль:\tпароль\n",
      "\n",
      "Изначальная решетка:\n",
      "[[1 2 3 7 4 1]\n",
      " [4 5 6 8 5 2]\n",
      " [7 8 9 9 6 3]\n",
      " [3 6 9 9 8 7]\n",
      " [2 5 8 6 5 4]\n",
      " [1 4 7 3 2 1]]\n",
      "\n",
      "Получившееся \"решето\":\n",
      "1\t2\t#\t7\t#\t#\n",
      "4\t5\t6\t8\t5\t#\n",
      "7\t#\t9\t#\t#\t3\n",
      "3\t6\t9\t9\t8\t#\n",
      "2\t#\t8\t6\t5\t4\n",
      "1\t4\t7\t3\t2\t1\n",
      "\n",
      "Зашифрованное соообщение:\tщдебовшорохялашукотакйцеиартусндогес\n"
     ]
    }
   ],
   "source": [
    "def nrot90(a: np.array, n: int) -> np.array:\n",
    "\t\"\"\"Функция для поворота 2d массива с заданным числом поворотов\n",
    "\n",
    "\tArgs:\n",
    "\t\ta (np.array): _description_\n",
    "\t\tn (int): _description_\n",
    "\n",
    "\tReturns:\n",
    "\t\tnp.array: _description_\n",
    "    \"\"\"\n",
    "\tfor _ in range(n):\n",
    "\t\ta = np.rot90(a)\n",
    "\treturn a\n",
    "\n",
    "k = int(input())  # ввод размера решетки\n",
    "\n",
    "text = input().replace(' ', '').lower().replace('ё', 'е')  # ввод текста\n",
    "if all(map(lambda x: x not in ALPHABET + ' ', text)):  # проверка на подходящий текст\n",
    "    raise(ValueError('Text has not acceptable symbols!'))\n",
    "\n",
    "if 4 * k**2 > len(text):  # проверка на размер текста\n",
    "    text += ''.join([np.random.choice(list(ALPHABET)) for _ in range(4 * k**2 - len(text))])\n",
    "\n",
    "# введение пароля\n",
    "password = input().replace(' ', '').lower().replace('ё', 'е')\n",
    "\n",
    "if all(map(lambda x: x not in ALPHABET + ' ', password)):  # проверка пароля на допустимые символы\n",
    "    raise(ValueError('Password has not acceptable symbols!'))\n",
    "if len(password) != 2 * k:  # проверка длинны пароля\n",
    "    raise(ValueError('Password len must be equall to matrix size!'))\n",
    "\n",
    "print(f'Размер решетки:\\t{k}')\n",
    "print(f'Сообщение для шифрования:\\t{text}')\n",
    "print(f'Пароль:\\t{password}')\n",
    "\n",
    "# формирование матрицы из текста\n",
    "text = np.array(list(text)).reshape((2 * k, 2 * k))\n",
    "###########################################################################\n",
    "\n",
    "# формирование квадрата 2k x 2k\n",
    "a = np.arange(1, k**2 + 1).reshape((k, k))\n",
    "board = np.concatenate([\n",
    "\tnp.concatenate([a, nrot90(a, 3)], axis=1),\n",
    "    np.concatenate([nrot90(a, 1), nrot90(a, 2)], axis=1)\n",
    "])\n",
    "print('\\nИзначальная решетка:')\n",
    "print(board, end='\\n\\n')\n",
    "\n",
    "# доставание всех индексов каждой цифры\n",
    "d = {}\n",
    "for i, y in enumerate(board):\n",
    "    for j, x in enumerate(board[i]):\n",
    "        if x in d:\n",
    "            d[x].append((i, j))\n",
    "        else:\n",
    "            d[x] = [(i, j)]\n",
    "\n",
    "# случайное доставание индексов каждой цифры, получение шифра\n",
    "indexes = []\n",
    "board = board.astype(str)\n",
    "for v in d.values():\n",
    "    board[v[np.random.choice(np.arange(k))]] = '#'\n",
    "    indexes.append(v[np.random.choice(np.arange(k))])\n",
    "\n",
    "print('Получившееся \"решето\":')\n",
    "for v in board:\n",
    "    print(*v, sep='\\t')\n",
    "    \n",
    "###########################################################################\n",
    "\n",
    "cyphered = np.full((2 * k, 2 * k), '')  # формирование пустой решетки для заполнения шифрованным сообщение \n",
    "indexes = sorted(indexes, key=lambda x: (x[0], x[1]))  # сортировка индексов для последовательного заполнения\n",
    "for i in range(4, 0 , -1):  # проход по крученным массивам\n",
    "    text = nrot90(text, i)\n",
    "    cyphered = nrot90(cyphered, i)\n",
    "    for idx in indexes:  # внесение символов на каждом развороте\n",
    "        cyphered[idx] = text[idx]\n",
    "\n",
    "print('\\nЗашифрованное соообщение:', end='\\t')\n",
    "# зашифрование паролем и приведение в текстовый вид\n",
    "print(''.join(cyphered[[password.index(v) for v in sorted(password)]].reshape(4 * k**2)))"
   ]
  },
  {
   "cell_type": "markdown",
   "id": "ae5ba5d1",
   "metadata": {},
   "source": [
    "___\n",
    "# Задание 3. Таблица Виженера"
   ]
  },
  {
   "cell_type": "code",
   "execution_count": 63,
   "id": "54b5f2b9",
   "metadata": {},
   "outputs": [
    {
     "name": "stdout",
     "output_type": "stream",
     "text": [
      "Таблица Виженера:\n",
      "а б в г д е ё ж з и й к л м н о п р с т у ф х ц ч ш щ ъ ы ь э ю я\n",
      "б в г д е ё ж з и й к л м н о п р с т у ф х ц ч ш щ ъ ы ь э ю я а\n",
      "в г д е ё ж з и й к л м н о п р с т у ф х ц ч ш щ ъ ы ь э ю я а б\n",
      "г д е ё ж з и й к л м н о п р с т у ф х ц ч ш щ ъ ы ь э ю я а б в\n",
      "д е ё ж з и й к л м н о п р с т у ф х ц ч ш щ ъ ы ь э ю я а б в г\n",
      "е ё ж з и й к л м н о п р с т у ф х ц ч ш щ ъ ы ь э ю я а б в г д\n",
      "ё ж з и й к л м н о п р с т у ф х ц ч ш щ ъ ы ь э ю я а б в г д е\n",
      "ж з и й к л м н о п р с т у ф х ц ч ш щ ъ ы ь э ю я а б в г д е ё\n",
      "з и й к л м н о п р с т у ф х ц ч ш щ ъ ы ь э ю я а б в г д е ё ж\n",
      "и й к л м н о п р с т у ф х ц ч ш щ ъ ы ь э ю я а б в г д е ё ж з\n",
      "й к л м н о п р с т у ф х ц ч ш щ ъ ы ь э ю я а б в г д е ё ж з и\n",
      "к л м н о п р с т у ф х ц ч ш щ ъ ы ь э ю я а б в г д е ё ж з и й\n",
      "л м н о п р с т у ф х ц ч ш щ ъ ы ь э ю я а б в г д е ё ж з и й к\n",
      "м н о п р с т у ф х ц ч ш щ ъ ы ь э ю я а б в г д е ё ж з и й к л\n",
      "н о п р с т у ф х ц ч ш щ ъ ы ь э ю я а б в г д е ё ж з и й к л м\n",
      "о п р с т у ф х ц ч ш щ ъ ы ь э ю я а б в г д е ё ж з и й к л м н\n",
      "п р с т у ф х ц ч ш щ ъ ы ь э ю я а б в г д е ё ж з и й к л м н о\n",
      "р с т у ф х ц ч ш щ ъ ы ь э ю я а б в г д е ё ж з и й к л м н о п\n",
      "с т у ф х ц ч ш щ ъ ы ь э ю я а б в г д е ё ж з и й к л м н о п р\n",
      "т у ф х ц ч ш щ ъ ы ь э ю я а б в г д е ё ж з и й к л м н о п р с\n",
      "у ф х ц ч ш щ ъ ы ь э ю я а б в г д е ё ж з и й к л м н о п р с т\n",
      "ф х ц ч ш щ ъ ы ь э ю я а б в г д е ё ж з и й к л м н о п р с т у\n",
      "х ц ч ш щ ъ ы ь э ю я а б в г д е ё ж з и й к л м н о п р с т у ф\n",
      "ц ч ш щ ъ ы ь э ю я а б в г д е ё ж з и й к л м н о п р с т у ф х\n",
      "ч ш щ ъ ы ь э ю я а б в г д е ё ж з и й к л м н о п р с т у ф х ц\n",
      "ш щ ъ ы ь э ю я а б в г д е ё ж з и й к л м н о п р с т у ф х ц ч\n",
      "щ ъ ы ь э ю я а б в г д е ё ж з и й к л м н о п р с т у ф х ц ч ш\n",
      "ъ ы ь э ю я а б в г д е ё ж з и й к л м н о п р с т у ф х ц ч ш щ\n",
      "ы ь э ю я а б в г д е ё ж з и й к л м н о п р с т у ф х ц ч ш щ ъ\n",
      "ь э ю я а б в г д е ё ж з и й к л м н о п р с т у ф х ц ч ш щ ъ ы\n",
      "э ю я а б в г д е ё ж з и й к л м н о п р с т у ф х ц ч ш щ ъ ы ь\n",
      "ю я а б в г д е ё ж з и й к л м н о п р с т у ф х ц ч ш щ ъ ы ь э\n",
      "я а б в г д е ё ж з и й к л м н о п р с т у ф х ц ч ш щ ъ ы ь э ю\n"
     ]
    }
   ],
   "source": [
    "vtable = [list(ALPHABET[i:] + ALPHABET[:i]) for i in range(len(ALPHABET))]\n",
    "\n",
    "print('Таблица Виженера:')\n",
    "for r in vtable:\n",
    "\tprint(*r, sep=' ')"
   ]
  },
  {
   "cell_type": "code",
   "execution_count": null,
   "id": "90ff5fcc",
   "metadata": {},
   "outputs": [
    {
     "name": "stdout",
     "output_type": "stream",
     "text": [
      "Сообщение для шифрования:\tяоченьлюблюкотовисобак\n",
      "Пароль:\tжирафжирафжирафжирафжи\n",
      "Шифр: ёчзевгфобаеуятгисвохжу\n"
     ]
    }
   ],
   "source": [
    "text = input().replace(' ', '').lower()\n",
    "if all(map(lambda x: x not in ALPHABET + ' ', text)):  # проверка на подходящий текст\n",
    "    raise(ValueError('Text has not acceptable symbols!'))\n",
    "\n",
    "password = input().replace(' ', '').lower()  # введение пароля\n",
    "\n",
    "if all(map(lambda x: x not in ALPHABET + ' ', password)):  # проверка пароля на допустимые символы\n",
    "    raise(ValueError('Password has not acceptable symbols!'))\n",
    "if len(password) > len(text):  # проверка, что длинна пароля не больше, чем самого текста\n",
    "    raise(ValueError('The length of password must be less than text length'))\n",
    "if len(password) != len(text):  # проверка длинны пароля\n",
    "    password = password * (len(text) // len(password)) +\\\n",
    "    \tpassword[:len(text) - len(password * (len(text) // len(password)))]\n",
    "\n",
    "print(f'Сообщение для шифрования:\\t{text}')\n",
    "print(f'Пароль:\\t{password}')\n",
    "\n",
    "###########################################################################\n",
    "\n",
    "print('Шифр:',\n",
    "    ''.join([vtable[ALPHABET.index(p)][ALPHABET.index(t)] for p, t in zip(password, text)]))"
   ]
  }
 ],
 "metadata": {
  "kernelspec": {
   "display_name": ".venv",
   "language": "python",
   "name": "python3"
  },
  "language_info": {
   "codemirror_mode": {
    "name": "ipython",
    "version": 3
   },
   "file_extension": ".py",
   "mimetype": "text/x-python",
   "name": "python",
   "nbconvert_exporter": "python",
   "pygments_lexer": "ipython3",
   "version": "3.13.1"
  }
 },
 "nbformat": 4,
 "nbformat_minor": 5
}
