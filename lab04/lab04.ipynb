{
 "cells": [
  {
   "cell_type": "markdown",
   "id": "e18f0baa",
   "metadata": {},
   "source": [
    "# Шифрование гаммированием"
   ]
  },
  {
   "cell_type": "code",
   "execution_count": 42,
   "id": "b38af7f0",
   "metadata": {},
   "outputs": [],
   "source": [
    "ALPHABET = 'абвгдежзийклмнопрстуфхцчшщъыьэюя'\n",
    "dig_alph = {i + 1: l for i, l in enumerate(ALPHABET)}\n",
    "alph_dig = {l: i + 1 for i, l in enumerate(ALPHABET)}"
   ]
  },
  {
   "cell_type": "code",
   "execution_count": 50,
   "id": "1b505730",
   "metadata": {},
   "outputs": [
    {
     "data": {
      "text/plain": [
       "'усхчбл'"
      ]
     },
     "execution_count": 50,
     "metadata": {},
     "output_type": "execute_result"
    }
   ],
   "source": [
    "text = 'приказ'\n",
    "key = 'гамма'\n",
    "\n",
    "''.join([\n",
    "    dig_alph[(alph_dig[t] + alph_dig[k] % 33) % len(ALPHABET)]\n",
    "\tfor t, k in zip(\n",
    "        text,\n",
    "        key * (len(text) // len(key)) + key[:len(text) % len(key)] if len(text) > len(key) else key[:len(text)]\n",
    "\t)\n",
    "])"
   ]
  }
 ],
 "metadata": {
  "kernelspec": {
   "display_name": ".venv",
   "language": "python",
   "name": "python3"
  },
  "language_info": {
   "codemirror_mode": {
    "name": "ipython",
    "version": 3
   },
   "file_extension": ".py",
   "mimetype": "text/x-python",
   "name": "python",
   "nbconvert_exporter": "python",
   "pygments_lexer": "ipython3",
   "version": "3.13.1"
  }
 },
 "nbformat": 4,
 "nbformat_minor": 5
}
