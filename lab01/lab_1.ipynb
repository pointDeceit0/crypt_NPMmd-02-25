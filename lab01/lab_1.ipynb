{
 "cells": [
  {
   "cell_type": "markdown",
   "id": "58703508",
   "metadata": {},
   "source": [
    "# Задание 1. Шифр Цезаря"
   ]
  },
  {
   "cell_type": "markdown",
   "id": "585b0b2c",
   "metadata": {},
   "source": [
    "Задаем российский алфавит как константу:"
   ]
  },
  {
   "cell_type": "code",
   "execution_count": 1,
   "id": "a05877d8",
   "metadata": {},
   "outputs": [],
   "source": [
    "ALPHABET = 'абвгдеёжзийклмнопрстуфхцчшщъыьэюя'"
   ]
  },
  {
   "cell_type": "markdown",
   "id": "afde6e1b",
   "metadata": {},
   "source": [
    "Код для шифра Цезаря:"
   ]
  },
  {
   "cell_type": "code",
   "execution_count": null,
   "id": "aef65838",
   "metadata": {},
   "outputs": [
    {
     "name": "stdout",
     "output_type": "stream",
     "text": [
      "Ключ:\t28\n",
      "Сообщение для шифрования:\tяхорошопокушалсутра\n",
      "Зашифрованное сообщение:\tърйлйуйкйёоуыжмонлы\n"
     ]
    }
   ],
   "source": [
    "# вводим ключ\n",
    "k = int(input())\n",
    "\n",
    "if 0 > k:  # обработка ошибок для случая когда ключ меньше нуля\n",
    "    raise(ValueError('k must be more then 0 in Russian alphabet!'))\n",
    "if len(ALPHABET) < k:  # обработка ошибок для случая, когда ключ больше, чем длинна алфавита\n",
    "    raise(ValueError('k must be less then 32 in Russian alphabet!'))\n",
    "# составление маппера\n",
    "cypher = {orig: cyph for orig, cyph in zip(ALPHABET, ALPHABET[k:] + ALPHABET[:k])}\n",
    "\n",
    "# ввод сообщения\n",
    "message = input().replace(' ', '').lower()\n",
    "if all(map(lambda x: x not in ALPHABET + ' ', message)):  # проверка на допустимые элементы сообщения\n",
    "    raise(ValueError('Message symbols must be from alphabet or space!'))\n",
    "\n",
    "# вывод:\n",
    "print(f'Ключ:\\t{k}')\n",
    "print(f'Сообщение для шифрования:\\t{message}')\n",
    "print(f'Зашифрованное сообщение:\\t{''.join(map(lambda x: cypher[x], message))}')"
   ]
  },
  {
   "cell_type": "markdown",
   "id": "df765697",
   "metadata": {},
   "source": [
    "___\n",
    "# Задание 2. Шифр Атбаш"
   ]
  },
  {
   "cell_type": "markdown",
   "id": "0555ca10",
   "metadata": {},
   "source": [
    "Код для шифра Атбаш:"
   ]
  },
  {
   "cell_type": "code",
   "execution_count": null,
   "id": "1d2ae59a",
   "metadata": {},
   "outputs": [
    {
     "name": "stdout",
     "output_type": "stream",
     "text": [
      "Сообщение для шифрования:\tя сегодня также хорошо покушал и в обед\n",
      "Зашифрованное сообщение:\tбаоыэсьтбан хщыакспсзсарсхмз фачаюасяыь\n"
     ]
    }
   ],
   "source": [
    "# составления маппера\n",
    "cypher = {orig: cyph for orig, cyph in zip(ALPHABET + \" \", (ALPHABET + \" \")[::-1])}\n",
    "\n",
    "# ввод сообщения\n",
    "message = input().lower()\n",
    "if all(map(lambda x: x not in ALPHABET + ' ', message)):  # проверка на допустимые значения\n",
    "    raise(ValueError('Message symbols must be from alphabet or space!'))\n",
    "\n",
    "# вывод:\n",
    "print(f'Сообщение для шифрования:\\t{message}')\n",
    "print(f'Зашифрованное сообщение:\\t{''.join(map(lambda x: cypher[x], message))}')"
   ]
  }
 ],
 "metadata": {
  "kernelspec": {
   "display_name": ".venv",
   "language": "python",
   "name": "python3"
  },
  "language_info": {
   "codemirror_mode": {
    "name": "ipython",
    "version": 3
   },
   "file_extension": ".py",
   "mimetype": "text/x-python",
   "name": "python",
   "nbconvert_exporter": "python",
   "pygments_lexer": "ipython3",
   "version": "3.13.1"
  }
 },
 "nbformat": 4,
 "nbformat_minor": 5
}
